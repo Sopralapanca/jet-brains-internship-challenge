{
  "nbformat": 4,
  "nbformat_minor": 0,
  "metadata": {
    "colab": {
      "provenance": []
    },
    "kernelspec": {
      "name": "python3",
      "display_name": "Python 3"
    },
    "language_info": {
      "name": "python"
    }
  },
  "cells": [
    {
      "cell_type": "markdown",
      "source": [
        "# Introduction"
      ],
      "metadata": {
        "id": "PuaZCPN72LAF"
      }
    },
    {
      "cell_type": "markdown",
      "source": [
        "**Description**\n",
        "Our team is currently developing a new platform that brings AI capabilities to all JetBrains products. Part of this platform is based on compact and efficient language models which help users write better text, no matter what JetBrains product they are using. We are looking for an ML Engineer who can contribute to our grammar error correction service within our writing assistance project. There are several open ideas which we would potentially like to explore:\n",
        "\n",
        "* Fine-tuning large language models for the grammar error correction tasks\n",
        "* Experimenting with ensembling and ranking of single-model systems\n",
        "* Adapting recent advances in text-editing to grammar error correction\n",
        "* Augmenting and enhancing our datasets using LLMs or alternative methods\n",
        "\n",
        "Of course, we also welcome your own ideas and the application of other research papers.\n",
        "\n",
        "**Test task 2**\n",
        "One of the most widespread applications of natural language processing is to correct erroneous texts, in particular incorrectly spelled words. ***Your goal is to explore the existing spell checking tools and evaluate them***.\n",
        "\n",
        "We suggest the following steps for this test assignment:\n",
        "\n",
        "* Collect the data for evaluation, e.g. you can use publicly available datasets, generate synthetic data, combine different approaches – it's up to you.\n",
        "* Research and choose the metrics you want to use for evaluation.\n",
        "* Explore the existing spell checkers (e.g. libraries, fine-tuned models, LLMs), pick some you like and evaluate them on the created test set.\n",
        "* Analyse the results and think about the strengths and weaknesses of each spell checker, as well as the reasons for that. Think about how they could be improved.\n",
        "\n",
        "As a result, you should provide a link to a repository containing the source code and documentation, e.g.:\n",
        "\n",
        "* Scripts containing data preparation and evaluation\n",
        "* Documentation describing datasets, tools and metrics you used\n",
        "* A short report that describes your approach and ideas summarises the results and discusses the challenges you encountered\n",
        "* Instructions on how to run and locally reproduce the results"
      ],
      "metadata": {
        "id": "dcZqQhVh3OWZ"
      }
    },
    {
      "cell_type": "markdown",
      "source": [
        "# Prepare the dataset"
      ],
      "metadata": {
        "id": "kvzN5KDb86aE"
      }
    },
    {
      "cell_type": "code",
      "source": [
        "!git clone https://github.com/Sopralapanca/jet-brains-internship-challenge"
      ],
      "metadata": {
        "colab": {
          "base_uri": "https://localhost:8080/"
        },
        "id": "5oZDrdz1H4fr",
        "outputId": "e60efdd6-e12b-4ed6-b432-462261297233"
      },
      "execution_count": 1,
      "outputs": [
        {
          "output_type": "stream",
          "name": "stdout",
          "text": [
            "Cloning into 'jet-brains-internship-challenge'...\n",
            "warning: You appear to have cloned an empty repository.\n"
          ]
        }
      ]
    },
    {
      "cell_type": "code",
      "execution_count": null,
      "metadata": {
        "id": "LIVgCqGu2CVJ"
      },
      "outputs": [],
      "source": []
    },
    {
      "cell_type": "markdown",
      "source": [
        "NOTE\n",
        "\n",
        "una analisi potrebbe essere fatta su quali sono gli errori grammaticali più comuni? se abbreviazioni, capital case, errori nei verbi, typo ecc"
      ],
      "metadata": {
        "id": "zb7xBuLO5K87"
      }
    }
  ]
}